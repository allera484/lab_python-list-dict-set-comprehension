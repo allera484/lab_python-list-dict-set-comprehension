{
 "cells": [
  {
   "cell_type": "markdown",
   "id": "25d7736c-ba17-4aff-b6bb-66eba20fbf4e",
   "metadata": {},
   "source": [
    "# Lab | List, Dict and Set Comprehension"
   ]
  },
  {
   "cell_type": "markdown",
   "id": "7dd3cbde-675a-4b81-92c3-f728846dbe06",
   "metadata": {},
   "source": [
    "## Exercise: Managing Customer Orders Optimized with Comprehension"
   ]
  },
  {
   "cell_type": "markdown",
   "id": "5d500160-2fb7-4777-b5e4-09d45ebaf328",
   "metadata": {},
   "source": [
    "In the previous exercise, you developed a program to manage customer orders and inventory. Now, let's take it a step further and incorporate comprehension into your code.\n",
    "\n",
    "Follow the steps below to complete the exercise:\n",
    "\n",
    "1. Review your code from the previous exercise and identify areas where you can apply comprehension to simplify and streamline your code. \n",
    "\n",
    "    - *Hint: Apply it to initialize inventory, updating the inventory and printing the updated inventory.*\n",
    "    \n",
    "    - For example, in initializing the inventory, we could have:\n",
    "    \n",
    "        ```python\n",
    "        def initialize_inventory(products):\n",
    "            inventory = {product: int(input(f\"Enter the quantity of {product}s available: \")) for product in products}\n",
    "            return inventory\n",
    "\n",
    "        ```\n",
    "<br>\n",
    "    \n",
    "    \n",
    "2. Modify the function get_customer_orders so it prompts the user to enter the number of customer orders and gathers the product names using a loop and user input. Use comprehension.\n",
    "\n",
    "3. Add a new function to calculate the total price of the customer order. For each product in customer_orders, prompt the user to enter the price of that product. Use comprehension to calculate the total price. Note: assume that the user can only have 1 unit of each product.\n",
    "\n",
    "4. Modify the update_inventory function to remove the product from the inventory if its quantity becomes zero after fulfilling the customer orders. Use comprehension to filter out the products with a quantity of zero from the inventory.\n",
    "\n",
    "5. Print the total price of the customer order.\n",
    "\n",
    "Your code should produce output similar to the following:\n",
    "\n",
    "```python\n",
    "Enter the quantity of t-shirts available:  5\n",
    "Enter the quantity of mugs available:  4\n",
    "Enter the quantity of hats available:  3\n",
    "Enter the quantity of books available:  2\n",
    "Enter the quantity of keychains available:  1\n",
    "Enter the number of customer orders:  2\n",
    "Enter the name of a product that a customer wants to order:  hat\n",
    "Enter the name of a product that a customer wants to order:  keychain\n",
    "\n",
    "Order Statistics:\n",
    "Total Products Ordered: 2\n",
    "Percentage of Unique Products Ordered: 40.0\n",
    "\n",
    "Updated Inventory:\n",
    "t-shirt: 5\n",
    "mug: 4\n",
    "hat: 2\n",
    "book: 2\n",
    "Enter the price of keychain:  5\n",
    "Enter the price of hat:  10\n",
    "Total Price: 15.0\n",
    "\n",
    "```\n"
   ]
  },
  {
   "cell_type": "code",
   "execution_count": 2,
   "id": "dca121b0",
   "metadata": {},
   "outputs": [],
   "source": [
    "def input_customer_order(products):\n",
    "    \"\"\" Validates if the input is in products\"\"\"\n",
    "    order = input('Enter the name of your product').lower()\n",
    "    while order not in products:\n",
    "        order = input (f'Please type a product in {products} ')\n",
    "    return (order)\n",
    "    "
   ]
  },
  {
   "cell_type": "code",
   "execution_count": 3,
   "id": "f5e4e482",
   "metadata": {},
   "outputs": [
    {
     "name": "stdout",
     "output_type": "stream",
     "text": [
      "Enter the name of your productmug\n"
     ]
    },
    {
     "data": {
      "text/plain": [
       "'mug'"
      ]
     },
     "execution_count": 3,
     "metadata": {},
     "output_type": "execute_result"
    }
   ],
   "source": [
    "input_customer_order(['mug','plate'])"
   ]
  },
  {
   "cell_type": "code",
   "execution_count": 11,
   "id": "b055839e",
   "metadata": {},
   "outputs": [],
   "source": [
    "def total_price(customer_orders):\n",
    "    \"\"\" For each product in customer_orders, prompt the user to enter the price of that product.\n",
    "        Use comprehension to calculate the total price.\"\"\"\n",
    "    price_list = [float(input(f'Price of the product {p}')) for p in customer_orders]\n",
    "    calculated_price = sum(price_list)\n",
    "    return calculated_price \n"
   ]
  },
  {
   "cell_type": "code",
   "execution_count": 14,
   "id": "131c2db2",
   "metadata": {},
   "outputs": [
    {
     "name": "stdout",
     "output_type": "stream",
     "text": [
      "Price of the product mug5\n",
      "Price of the product plate6.5\n"
     ]
    },
    {
     "data": {
      "text/plain": [
       "11.5"
      ]
     },
     "execution_count": 14,
     "metadata": {},
     "output_type": "execute_result"
    }
   ],
   "source": [
    "total_price(['mug', 'plate'])"
   ]
  },
  {
   "cell_type": "code",
   "execution_count": 19,
   "id": "ec7663fe",
   "metadata": {},
   "outputs": [],
   "source": [
    "def update_inventory(customer_orders, inventory):\n",
    "    \"\"\"\n",
    "    Inside the function, implement the code for updating the inventory dictionary based on the customer orders.\n",
    "    \"\"\"\n",
    "    for product in customer_orders:\n",
    "        inventory[product]-=1\n",
    "    print(inventory)"
   ]
  },
  {
   "cell_type": "code",
   "execution_count": 18,
   "id": "ad9ed020",
   "metadata": {},
   "outputs": [
    {
     "name": "stdout",
     "output_type": "stream",
     "text": [
      "{'mug': 2}\n"
     ]
    }
   ],
   "source": [
    "inventory = {'mug':3,'t-shirt':1}\n",
    "customer_orders = {'mug','t-shirt'}\n",
    "[inventory.update({product:inventory[product]-1}) if inventory [product]-1>0 else inventory.pop(product)\n",
    "                 for product in customer_orders]\n",
    "print(inventory)"
   ]
  },
  {
   "cell_type": "code",
   "execution_count": 4,
   "id": "0e06f7b5",
   "metadata": {},
   "outputs": [],
   "source": [
    "def get_customer_orders(products):\n",
    "    \"\"\"\n",
    "    Inside the function, implement the code for prompting the user to enter the product names using a loop. \n",
    "    The function should return the customer_orders set.\n",
    "    \"\"\"\n",
    "    order_amount= input('How many products do you want?')\n",
    "    while not order_amount.isdigit():\n",
    "        order_amount= input('How many products do you want?')\n",
    "    order_amount = int(order_amount)\n",
    "    customer_orders ={input_customer_order(products) for o in range(order_amount)}\n",
    "        \n",
    "    return customer_orders\n"
   ]
  },
  {
   "cell_type": "code",
   "execution_count": 5,
   "id": "21f00c95",
   "metadata": {},
   "outputs": [
    {
     "name": "stdout",
     "output_type": "stream",
     "text": [
      "How many products do you want?Mugs\n",
      "How many products do you want?4\n",
      "Enter the name of your productmug\n",
      "Enter the name of your productmug\n",
      "Enter the name of your producthat\n",
      "Please type a product in ['mug', 'plate'] plate\n",
      "Enter the name of your productplate\n"
     ]
    },
    {
     "data": {
      "text/plain": [
       "{'mug', 'plate'}"
      ]
     },
     "execution_count": 5,
     "metadata": {},
     "output_type": "execute_result"
    }
   ],
   "source": [
    "get_customer_orders(['mug','plate'])"
   ]
  }
 ],
 "metadata": {
  "kernelspec": {
   "display_name": "Python 3 (ipykernel)",
   "language": "python",
   "name": "python3"
  },
  "language_info": {
   "codemirror_mode": {
    "name": "ipython",
    "version": 3
   },
   "file_extension": ".py",
   "mimetype": "text/x-python",
   "name": "python",
   "nbconvert_exporter": "python",
   "pygments_lexer": "ipython3",
   "version": "3.11.5"
  }
 },
 "nbformat": 4,
 "nbformat_minor": 5
}
